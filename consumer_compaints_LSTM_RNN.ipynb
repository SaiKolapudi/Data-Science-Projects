{
  "nbformat": 4,
  "nbformat_minor": 0,
  "metadata": {
    "colab": {
      "provenance": [],
      "machine_shape": "hm",
      "authorship_tag": "ABX9TyNPDrEhhf1+/6A9oLNvxTFZ",
      "include_colab_link": true
    },
    "kernelspec": {
      "name": "python3",
      "display_name": "Python 3"
    },
    "language_info": {
      "name": "python"
    },
    "accelerator": "GPU"
  },
  "cells": [
    {
      "cell_type": "markdown",
      "metadata": {
        "id": "view-in-github",
        "colab_type": "text"
      },
      "source": [
        "<a href=\"https://colab.research.google.com/github/SaiKolapudi/Data-Science-Projects/blob/main/consumer_compaints_LSTM_RNN.ipynb\" target=\"_parent\"><img src=\"https://colab.research.google.com/assets/colab-badge.svg\" alt=\"Open In Colab\"/></a>"
      ]
    },
    {
      "cell_type": "code",
      "execution_count": 3,
      "metadata": {
        "colab": {
          "base_uri": "https://localhost:8080/",
          "height": 35
        },
        "id": "ahrl_GFbqVIl",
        "outputId": "fddb49f9-be52-4244-811f-21d4dc86753b"
      },
      "outputs": [
        {
          "output_type": "execute_result",
          "data": {
            "text/plain": [
              "'/device:GPU:0'"
            ],
            "application/vnd.google.colaboratory.intrinsic+json": {
              "type": "string"
            }
          },
          "metadata": {},
          "execution_count": 3
        }
      ],
      "source": [
        "import pandas as pd\n",
        "import re\n",
        "import matplotlib.pyplot as plt\n",
        "import tensorflow as tf\n",
        "from tensorflow.python.client import device_lib\n",
        "tf.test.gpu_device_name()"
      ]
    },
    {
      "cell_type": "code",
      "source": [
        "df = pd.read_csv('complaints_processed.csv')"
      ],
      "metadata": {
        "id": "N7rF9mPZqZiH"
      },
      "execution_count": 5,
      "outputs": []
    },
    {
      "cell_type": "code",
      "source": [
        "df.head()"
      ],
      "metadata": {
        "colab": {
          "base_uri": "https://localhost:8080/",
          "height": 206
        },
        "id": "P5D6xGr6q90w",
        "outputId": "bfe930b3-f88c-4600-e499-6649818a5233"
      },
      "execution_count": 6,
      "outputs": [
        {
          "output_type": "execute_result",
          "data": {
            "text/plain": [
              "   Unnamed: 0           product  \\\n",
              "0           0       credit_card   \n",
              "1           1       credit_card   \n",
              "2           2    retail_banking   \n",
              "3           3  credit_reporting   \n",
              "4           4  credit_reporting   \n",
              "\n",
              "                                           narrative  \n",
              "0  purchase order day shipping amount receive pro...  \n",
              "1  forwarded message date tue subject please inve...  \n",
              "2  forwarded message cc sent friday pdt subject f...  \n",
              "3  payment history missing credit report speciali...  \n",
              "4  payment history missing credit report made mis...  "
            ],
            "text/html": [
              "\n",
              "  <div id=\"df-8f96e429-2d9f-463e-a7fc-44588d1e7d5d\">\n",
              "    <div class=\"colab-df-container\">\n",
              "      <div>\n",
              "<style scoped>\n",
              "    .dataframe tbody tr th:only-of-type {\n",
              "        vertical-align: middle;\n",
              "    }\n",
              "\n",
              "    .dataframe tbody tr th {\n",
              "        vertical-align: top;\n",
              "    }\n",
              "\n",
              "    .dataframe thead th {\n",
              "        text-align: right;\n",
              "    }\n",
              "</style>\n",
              "<table border=\"1\" class=\"dataframe\">\n",
              "  <thead>\n",
              "    <tr style=\"text-align: right;\">\n",
              "      <th></th>\n",
              "      <th>Unnamed: 0</th>\n",
              "      <th>product</th>\n",
              "      <th>narrative</th>\n",
              "    </tr>\n",
              "  </thead>\n",
              "  <tbody>\n",
              "    <tr>\n",
              "      <th>0</th>\n",
              "      <td>0</td>\n",
              "      <td>credit_card</td>\n",
              "      <td>purchase order day shipping amount receive pro...</td>\n",
              "    </tr>\n",
              "    <tr>\n",
              "      <th>1</th>\n",
              "      <td>1</td>\n",
              "      <td>credit_card</td>\n",
              "      <td>forwarded message date tue subject please inve...</td>\n",
              "    </tr>\n",
              "    <tr>\n",
              "      <th>2</th>\n",
              "      <td>2</td>\n",
              "      <td>retail_banking</td>\n",
              "      <td>forwarded message cc sent friday pdt subject f...</td>\n",
              "    </tr>\n",
              "    <tr>\n",
              "      <th>3</th>\n",
              "      <td>3</td>\n",
              "      <td>credit_reporting</td>\n",
              "      <td>payment history missing credit report speciali...</td>\n",
              "    </tr>\n",
              "    <tr>\n",
              "      <th>4</th>\n",
              "      <td>4</td>\n",
              "      <td>credit_reporting</td>\n",
              "      <td>payment history missing credit report made mis...</td>\n",
              "    </tr>\n",
              "  </tbody>\n",
              "</table>\n",
              "</div>\n",
              "      <button class=\"colab-df-convert\" onclick=\"convertToInteractive('df-8f96e429-2d9f-463e-a7fc-44588d1e7d5d')\"\n",
              "              title=\"Convert this dataframe to an interactive table.\"\n",
              "              style=\"display:none;\">\n",
              "        \n",
              "  <svg xmlns=\"http://www.w3.org/2000/svg\" height=\"24px\"viewBox=\"0 0 24 24\"\n",
              "       width=\"24px\">\n",
              "    <path d=\"M0 0h24v24H0V0z\" fill=\"none\"/>\n",
              "    <path d=\"M18.56 5.44l.94 2.06.94-2.06 2.06-.94-2.06-.94-.94-2.06-.94 2.06-2.06.94zm-11 1L8.5 8.5l.94-2.06 2.06-.94-2.06-.94L8.5 2.5l-.94 2.06-2.06.94zm10 10l.94 2.06.94-2.06 2.06-.94-2.06-.94-.94-2.06-.94 2.06-2.06.94z\"/><path d=\"M17.41 7.96l-1.37-1.37c-.4-.4-.92-.59-1.43-.59-.52 0-1.04.2-1.43.59L10.3 9.45l-7.72 7.72c-.78.78-.78 2.05 0 2.83L4 21.41c.39.39.9.59 1.41.59.51 0 1.02-.2 1.41-.59l7.78-7.78 2.81-2.81c.8-.78.8-2.07 0-2.86zM5.41 20L4 18.59l7.72-7.72 1.47 1.35L5.41 20z\"/>\n",
              "  </svg>\n",
              "      </button>\n",
              "      \n",
              "  <style>\n",
              "    .colab-df-container {\n",
              "      display:flex;\n",
              "      flex-wrap:wrap;\n",
              "      gap: 12px;\n",
              "    }\n",
              "\n",
              "    .colab-df-convert {\n",
              "      background-color: #E8F0FE;\n",
              "      border: none;\n",
              "      border-radius: 50%;\n",
              "      cursor: pointer;\n",
              "      display: none;\n",
              "      fill: #1967D2;\n",
              "      height: 32px;\n",
              "      padding: 0 0 0 0;\n",
              "      width: 32px;\n",
              "    }\n",
              "\n",
              "    .colab-df-convert:hover {\n",
              "      background-color: #E2EBFA;\n",
              "      box-shadow: 0px 1px 2px rgba(60, 64, 67, 0.3), 0px 1px 3px 1px rgba(60, 64, 67, 0.15);\n",
              "      fill: #174EA6;\n",
              "    }\n",
              "\n",
              "    [theme=dark] .colab-df-convert {\n",
              "      background-color: #3B4455;\n",
              "      fill: #D2E3FC;\n",
              "    }\n",
              "\n",
              "    [theme=dark] .colab-df-convert:hover {\n",
              "      background-color: #434B5C;\n",
              "      box-shadow: 0px 1px 3px 1px rgba(0, 0, 0, 0.15);\n",
              "      filter: drop-shadow(0px 1px 2px rgba(0, 0, 0, 0.3));\n",
              "      fill: #FFFFFF;\n",
              "    }\n",
              "  </style>\n",
              "\n",
              "      <script>\n",
              "        const buttonEl =\n",
              "          document.querySelector('#df-8f96e429-2d9f-463e-a7fc-44588d1e7d5d button.colab-df-convert');\n",
              "        buttonEl.style.display =\n",
              "          google.colab.kernel.accessAllowed ? 'block' : 'none';\n",
              "\n",
              "        async function convertToInteractive(key) {\n",
              "          const element = document.querySelector('#df-8f96e429-2d9f-463e-a7fc-44588d1e7d5d');\n",
              "          const dataTable =\n",
              "            await google.colab.kernel.invokeFunction('convertToInteractive',\n",
              "                                                     [key], {});\n",
              "          if (!dataTable) return;\n",
              "\n",
              "          const docLinkHtml = 'Like what you see? Visit the ' +\n",
              "            '<a target=\"_blank\" href=https://colab.research.google.com/notebooks/data_table.ipynb>data table notebook</a>'\n",
              "            + ' to learn more about interactive tables.';\n",
              "          element.innerHTML = '';\n",
              "          dataTable['output_type'] = 'display_data';\n",
              "          await google.colab.output.renderOutput(dataTable, element);\n",
              "          const docLink = document.createElement('div');\n",
              "          docLink.innerHTML = docLinkHtml;\n",
              "          element.appendChild(docLink);\n",
              "        }\n",
              "      </script>\n",
              "    </div>\n",
              "  </div>\n",
              "  "
            ]
          },
          "metadata": {},
          "execution_count": 6
        }
      ]
    },
    {
      "cell_type": "code",
      "source": [
        "# Renaming columns \n",
        "df = df.rename(columns={'narrative':'tweet' })\n",
        "\n",
        "# Removing SNo column\n",
        "df.drop(['Unnamed: 0'], axis=1, inplace=True)\n",
        "df.head()"
      ],
      "metadata": {
        "colab": {
          "base_uri": "https://localhost:8080/",
          "height": 206
        },
        "id": "KrJSZSimrF-I",
        "outputId": "e7bbd68e-48ac-45c6-b79d-e7cde00f5d73"
      },
      "execution_count": 7,
      "outputs": [
        {
          "output_type": "execute_result",
          "data": {
            "text/plain": [
              "            product                                              tweet\n",
              "0       credit_card  purchase order day shipping amount receive pro...\n",
              "1       credit_card  forwarded message date tue subject please inve...\n",
              "2    retail_banking  forwarded message cc sent friday pdt subject f...\n",
              "3  credit_reporting  payment history missing credit report speciali...\n",
              "4  credit_reporting  payment history missing credit report made mis..."
            ],
            "text/html": [
              "\n",
              "  <div id=\"df-94777644-d0a2-443a-bd6b-21537582d430\">\n",
              "    <div class=\"colab-df-container\">\n",
              "      <div>\n",
              "<style scoped>\n",
              "    .dataframe tbody tr th:only-of-type {\n",
              "        vertical-align: middle;\n",
              "    }\n",
              "\n",
              "    .dataframe tbody tr th {\n",
              "        vertical-align: top;\n",
              "    }\n",
              "\n",
              "    .dataframe thead th {\n",
              "        text-align: right;\n",
              "    }\n",
              "</style>\n",
              "<table border=\"1\" class=\"dataframe\">\n",
              "  <thead>\n",
              "    <tr style=\"text-align: right;\">\n",
              "      <th></th>\n",
              "      <th>product</th>\n",
              "      <th>tweet</th>\n",
              "    </tr>\n",
              "  </thead>\n",
              "  <tbody>\n",
              "    <tr>\n",
              "      <th>0</th>\n",
              "      <td>credit_card</td>\n",
              "      <td>purchase order day shipping amount receive pro...</td>\n",
              "    </tr>\n",
              "    <tr>\n",
              "      <th>1</th>\n",
              "      <td>credit_card</td>\n",
              "      <td>forwarded message date tue subject please inve...</td>\n",
              "    </tr>\n",
              "    <tr>\n",
              "      <th>2</th>\n",
              "      <td>retail_banking</td>\n",
              "      <td>forwarded message cc sent friday pdt subject f...</td>\n",
              "    </tr>\n",
              "    <tr>\n",
              "      <th>3</th>\n",
              "      <td>credit_reporting</td>\n",
              "      <td>payment history missing credit report speciali...</td>\n",
              "    </tr>\n",
              "    <tr>\n",
              "      <th>4</th>\n",
              "      <td>credit_reporting</td>\n",
              "      <td>payment history missing credit report made mis...</td>\n",
              "    </tr>\n",
              "  </tbody>\n",
              "</table>\n",
              "</div>\n",
              "      <button class=\"colab-df-convert\" onclick=\"convertToInteractive('df-94777644-d0a2-443a-bd6b-21537582d430')\"\n",
              "              title=\"Convert this dataframe to an interactive table.\"\n",
              "              style=\"display:none;\">\n",
              "        \n",
              "  <svg xmlns=\"http://www.w3.org/2000/svg\" height=\"24px\"viewBox=\"0 0 24 24\"\n",
              "       width=\"24px\">\n",
              "    <path d=\"M0 0h24v24H0V0z\" fill=\"none\"/>\n",
              "    <path d=\"M18.56 5.44l.94 2.06.94-2.06 2.06-.94-2.06-.94-.94-2.06-.94 2.06-2.06.94zm-11 1L8.5 8.5l.94-2.06 2.06-.94-2.06-.94L8.5 2.5l-.94 2.06-2.06.94zm10 10l.94 2.06.94-2.06 2.06-.94-2.06-.94-.94-2.06-.94 2.06-2.06.94z\"/><path d=\"M17.41 7.96l-1.37-1.37c-.4-.4-.92-.59-1.43-.59-.52 0-1.04.2-1.43.59L10.3 9.45l-7.72 7.72c-.78.78-.78 2.05 0 2.83L4 21.41c.39.39.9.59 1.41.59.51 0 1.02-.2 1.41-.59l7.78-7.78 2.81-2.81c.8-.78.8-2.07 0-2.86zM5.41 20L4 18.59l7.72-7.72 1.47 1.35L5.41 20z\"/>\n",
              "  </svg>\n",
              "      </button>\n",
              "      \n",
              "  <style>\n",
              "    .colab-df-container {\n",
              "      display:flex;\n",
              "      flex-wrap:wrap;\n",
              "      gap: 12px;\n",
              "    }\n",
              "\n",
              "    .colab-df-convert {\n",
              "      background-color: #E8F0FE;\n",
              "      border: none;\n",
              "      border-radius: 50%;\n",
              "      cursor: pointer;\n",
              "      display: none;\n",
              "      fill: #1967D2;\n",
              "      height: 32px;\n",
              "      padding: 0 0 0 0;\n",
              "      width: 32px;\n",
              "    }\n",
              "\n",
              "    .colab-df-convert:hover {\n",
              "      background-color: #E2EBFA;\n",
              "      box-shadow: 0px 1px 2px rgba(60, 64, 67, 0.3), 0px 1px 3px 1px rgba(60, 64, 67, 0.15);\n",
              "      fill: #174EA6;\n",
              "    }\n",
              "\n",
              "    [theme=dark] .colab-df-convert {\n",
              "      background-color: #3B4455;\n",
              "      fill: #D2E3FC;\n",
              "    }\n",
              "\n",
              "    [theme=dark] .colab-df-convert:hover {\n",
              "      background-color: #434B5C;\n",
              "      box-shadow: 0px 1px 3px 1px rgba(0, 0, 0, 0.15);\n",
              "      filter: drop-shadow(0px 1px 2px rgba(0, 0, 0, 0.3));\n",
              "      fill: #FFFFFF;\n",
              "    }\n",
              "  </style>\n",
              "\n",
              "      <script>\n",
              "        const buttonEl =\n",
              "          document.querySelector('#df-94777644-d0a2-443a-bd6b-21537582d430 button.colab-df-convert');\n",
              "        buttonEl.style.display =\n",
              "          google.colab.kernel.accessAllowed ? 'block' : 'none';\n",
              "\n",
              "        async function convertToInteractive(key) {\n",
              "          const element = document.querySelector('#df-94777644-d0a2-443a-bd6b-21537582d430');\n",
              "          const dataTable =\n",
              "            await google.colab.kernel.invokeFunction('convertToInteractive',\n",
              "                                                     [key], {});\n",
              "          if (!dataTable) return;\n",
              "\n",
              "          const docLinkHtml = 'Like what you see? Visit the ' +\n",
              "            '<a target=\"_blank\" href=https://colab.research.google.com/notebooks/data_table.ipynb>data table notebook</a>'\n",
              "            + ' to learn more about interactive tables.';\n",
              "          element.innerHTML = '';\n",
              "          dataTable['output_type'] = 'display_data';\n",
              "          await google.colab.output.renderOutput(dataTable, element);\n",
              "          const docLink = document.createElement('div');\n",
              "          docLink.innerHTML = docLinkHtml;\n",
              "          element.appendChild(docLink);\n",
              "        }\n",
              "      </script>\n",
              "    </div>\n",
              "  </div>\n",
              "  "
            ]
          },
          "metadata": {},
          "execution_count": 7
        }
      ]
    },
    {
      "cell_type": "code",
      "source": [
        "# Analysing dataframe attributes \n",
        "print('* Size of dataframe: {}\\n'.format(df.shape))\n",
        "print('* Datatype of columns are:\\n {}\\n'.format(df.dtypes))\n",
        "print('* Count of different product categories:\\n {}\\n'.format(df['product'].value_counts()))\n",
        "print('* Number of NaNs among tweets are: {}\\n'.format(df['tweet'].isnull().sum())) "
      ],
      "metadata": {
        "colab": {
          "base_uri": "https://localhost:8080/"
        },
        "id": "63lwOic_rI3Y",
        "outputId": "ed071136-8889-4d7f-956a-08e8eebb4348"
      },
      "execution_count": 8,
      "outputs": [
        {
          "output_type": "stream",
          "name": "stdout",
          "text": [
            "* Size of dataframe: (162421, 2)\n",
            "\n",
            "* Datatype of columns are:\n",
            " product    object\n",
            "tweet      object\n",
            "dtype: object\n",
            "\n",
            "* Count of different product categories:\n",
            " credit_reporting       91179\n",
            "debt_collection        23150\n",
            "mortgages_and_loans    18990\n",
            "credit_card            15566\n",
            "retail_banking         13536\n",
            "Name: product, dtype: int64\n",
            "\n",
            "* Number of NaNs among tweets are: 10\n",
            "\n"
          ]
        }
      ]
    },
    {
      "cell_type": "code",
      "source": [
        "# Removing NaNs\n",
        "df = df.dropna(subset=['tweet'])\n",
        "print('NaNs are removed from the dataframe. Number of NaNs can be confirmed to be {}. The size of dataframe has reduced to {}'.format(df['tweet'].isnull().sum(), df.shape))"
      ],
      "metadata": {
        "colab": {
          "base_uri": "https://localhost:8080/"
        },
        "id": "jXq1e36MrOPX",
        "outputId": "9e9bb2f5-64de-4e96-9c85-087809dc9f0c"
      },
      "execution_count": 9,
      "outputs": [
        {
          "output_type": "stream",
          "name": "stdout",
          "text": [
            "NaNs are removed from the dataframe. Number of NaNs can be confirmed to be 0. The size of dataframe has reduced to (162411, 2)\n"
          ]
        }
      ]
    },
    {
      "cell_type": "code",
      "source": [
        "# Plotting word lenghts of tweets\n",
        "word_length = [len(x) for x in df['tweet']]\n",
        "plt.plot(word_length)"
      ],
      "metadata": {
        "colab": {
          "base_uri": "https://localhost:8080/",
          "height": 282
        },
        "id": "zn-h4kbSrRSi",
        "outputId": "8968a72b-ebaf-4c81-89bc-e80fce38e044"
      },
      "execution_count": 10,
      "outputs": [
        {
          "output_type": "execute_result",
          "data": {
            "text/plain": [
              "[<matplotlib.lines.Line2D at 0x7fd821e9d790>]"
            ]
          },
          "metadata": {},
          "execution_count": 10
        },
        {
          "output_type": "display_data",
          "data": {
            "text/plain": [
              "<Figure size 432x288 with 1 Axes>"
            ],
            "image/png": "[encoded data removed]"
          },
          "metadata": {
            "needs_background": "light"
          }
        }
      ]
    },
    {
      "cell_type": "code",
      "source": [
        "# Converting sentences to string\n",
        "df['tweet'] = df['tweet'].astype(str)"
      ],
      "metadata": {
        "id": "dYDxxYrTrTnB"
      },
      "execution_count": 11,
      "outputs": []
    },
    {
      "cell_type": "code",
      "source": [
        "# Types of products\n",
        "df['product'].value_counts()"
      ],
      "metadata": {
        "colab": {
          "base_uri": "https://localhost:8080/"
        },
        "id": "eXjSY4y7rVts",
        "outputId": "e5f9ae0f-a9ed-41d2-db55-888ebef8c056"
      },
      "execution_count": 12,
      "outputs": [
        {
          "output_type": "execute_result",
          "data": {
            "text/plain": [
              "credit_reporting       91172\n",
              "debt_collection        23148\n",
              "mortgages_and_loans    18990\n",
              "credit_card            15566\n",
              "retail_banking         13535\n",
              "Name: product, dtype: int64"
            ]
          },
          "metadata": {},
          "execution_count": 12
        }
      ]
    },
    {
      "cell_type": "code",
      "source": [
        "# Plotting product value counts\n",
        "df.groupby('product').count().plot(kind='bar')\n",
        "plt.show()"
      ],
      "metadata": {
        "colab": {
          "base_uri": "https://localhost:8080/",
          "height": 379
        },
        "id": "POEwFwb3rX2v",
        "outputId": "38afcbc3-9221-4147-8e01-7043520a1369"
      },
      "execution_count": 13,
      "outputs": [
        {
          "output_type": "display_data",
          "data": {
            "text/plain": [
              "<Figure size 432x288 with 1 Axes>"
            ],
            "image/png": "[encoded data removed]"
          },
          "metadata": {
            "needs_background": "light"
          }
        }
      ]
    },
    {
      "cell_type": "code",
      "source": [
        "# Importing train test splilt library \n",
        "from sklearn.model_selection import train_test_split\n",
        "\n",
        "# Train-Test Splitting\n",
        "train_data, test_data = train_test_split(df, test_size = 0.20)"
      ],
      "metadata": {
        "id": "PamVzsEUraC4"
      },
      "execution_count": 14,
      "outputs": []
    },
    {
      "cell_type": "code",
      "source": [
        "# Train and test data dimensions\n",
        "train_data.shape, test_data.shape"
      ],
      "metadata": {
        "colab": {
          "base_uri": "https://localhost:8080/"
        },
        "id": "Hjti3c95rc2V",
        "outputId": "1247d177-e562-4341-f8b2-25e937be226c"
      },
      "execution_count": 15,
      "outputs": [
        {
          "output_type": "execute_result",
          "data": {
            "text/plain": [
              "((129928, 2), (32483, 2))"
            ]
          },
          "metadata": {},
          "execution_count": 15
        }
      ]
    },
    {
      "cell_type": "code",
      "source": [
        "# Balance of train data\n",
        "train_data.groupby('product').count().plot(kind='bar')\n",
        "plt.show()"
      ],
      "metadata": {
        "colab": {
          "base_uri": "https://localhost:8080/",
          "height": 379
        },
        "id": "Dy0iS-hgrfFT",
        "outputId": "307276b1-8bd1-4cb4-a68e-2b24880ea8f9"
      },
      "execution_count": 16,
      "outputs": [
        {
          "output_type": "display_data",
          "data": {
            "text/plain": [
              "<Figure size 432x288 with 1 Axes>"
            ],
            "image/png": "[encoded data removed]"
          },
          "metadata": {
            "needs_background": "light"
          }
        }
      ]
    },
    {
      "cell_type": "code",
      "source": [
        "# Train set value counts \n",
        "train_data.groupby('product').count()"
      ],
      "metadata": {
        "colab": {
          "base_uri": "https://localhost:8080/",
          "height": 237
        },
        "id": "C-jcOS87rhVY",
        "outputId": "e7e64887-f36e-47e8-802d-86df44688210"
      },
      "execution_count": 17,
      "outputs": [
        {
          "output_type": "execute_result",
          "data": {
            "text/plain": [
              "                     tweet\n",
              "product                   \n",
              "credit_card          12408\n",
              "credit_reporting     73114\n",
              "debt_collection      18474\n",
              "mortgages_and_loans  15170\n",
              "retail_banking       10762"
            ],
            "text/html": [
              "\n",
              "  <div id=\"df-fcd258db-3445-42c2-a67c-7c28c3e757f2\">\n",
              "    <div class=\"colab-df-container\">\n",
              "      <div>\n",
              "<style scoped>\n",
              "    .dataframe tbody tr th:only-of-type {\n",
              "        vertical-align: middle;\n",
              "    }\n",
              "\n",
              "    .dataframe tbody tr th {\n",
              "        vertical-align: top;\n",
              "    }\n",
              "\n",
              "    .dataframe thead th {\n",
              "        text-align: right;\n",
              "    }\n",
              "</style>\n",
              "<table border=\"1\" class=\"dataframe\">\n",
              "  <thead>\n",
              "    <tr style=\"text-align: right;\">\n",
              "      <th></th>\n",
              "      <th>tweet</th>\n",
              "    </tr>\n",
              "    <tr>\n",
              "      <th>product</th>\n",
              "      <th></th>\n",
              "    </tr>\n",
              "  </thead>\n",
              "  <tbody>\n",
              "    <tr>\n",
              "      <th>credit_card</th>\n",
              "      <td>12408</td>\n",
              "    </tr>\n",
              "    <tr>\n",
              "      <th>credit_reporting</th>\n",
              "      <td>73114</td>\n",
              "    </tr>\n",
              "    <tr>\n",
              "      <th>debt_collection</th>\n",
              "      <td>18474</td>\n",
              "    </tr>\n",
              "    <tr>\n",
              "      <th>mortgages_and_loans</th>\n",
              "      <td>15170</td>\n",
              "    </tr>\n",
              "    <tr>\n",
              "      <th>retail_banking</th>\n",
              "      <td>10762</td>\n",
              "    </tr>\n",
              "  </tbody>\n",
              "</table>\n",
              "</div>\n",
              "      <button class=\"colab-df-convert\" onclick=\"convertToInteractive('df-fcd258db-3445-42c2-a67c-7c28c3e757f2')\"\n",
              "              title=\"Convert this dataframe to an interactive table.\"\n",
              "              style=\"display:none;\">\n",
              "        \n",
              "  <svg xmlns=\"http://www.w3.org/2000/svg\" height=\"24px\"viewBox=\"0 0 24 24\"\n",
              "       width=\"24px\">\n",
              "    <path d=\"M0 0h24v24H0V0z\" fill=\"none\"/>\n",
              "    <path d=\"M18.56 5.44l.94 2.06.94-2.06 2.06-.94-2.06-.94-.94-2.06-.94 2.06-2.06.94zm-11 1L8.5 8.5l.94-2.06 2.06-.94-2.06-.94L8.5 2.5l-.94 2.06-2.06.94zm10 10l.94 2.06.94-2.06 2.06-.94-2.06-.94-.94-2.06-.94 2.06-2.06.94z\"/><path d=\"M17.41 7.96l-1.37-1.37c-.4-.4-.92-.59-1.43-.59-.52 0-1.04.2-1.43.59L10.3 9.45l-7.72 7.72c-.78.78-.78 2.05 0 2.83L4 21.41c.39.39.9.59 1.41.59.51 0 1.02-.2 1.41-.59l7.78-7.78 2.81-2.81c.8-.78.8-2.07 0-2.86zM5.41 20L4 18.59l7.72-7.72 1.47 1.35L5.41 20z\"/>\n",
              "  </svg>\n",
              "      </button>\n",
              "      \n",
              "  <style>\n",
              "    .colab-df-container {\n",
              "      display:flex;\n",
              "      flex-wrap:wrap;\n",
              "      gap: 12px;\n",
              "    }\n",
              "\n",
              "    .colab-df-convert {\n",
              "      background-color: #E8F0FE;\n",
              "      border: none;\n",
              "      border-radius: 50%;\n",
              "      cursor: pointer;\n",
              "      display: none;\n",
              "      fill: #1967D2;\n",
              "      height: 32px;\n",
              "      padding: 0 0 0 0;\n",
              "      width: 32px;\n",
              "    }\n",
              "\n",
              "    .colab-df-convert:hover {\n",
              "      background-color: #E2EBFA;\n",
              "      box-shadow: 0px 1px 2px rgba(60, 64, 67, 0.3), 0px 1px 3px 1px rgba(60, 64, 67, 0.15);\n",
              "      fill: #174EA6;\n",
              "    }\n",
              "\n",
              "    [theme=dark] .colab-df-convert {\n",
              "      background-color: #3B4455;\n",
              "      fill: #D2E3FC;\n",
              "    }\n",
              "\n",
              "    [theme=dark] .colab-df-convert:hover {\n",
              "      background-color: #434B5C;\n",
              "      box-shadow: 0px 1px 3px 1px rgba(0, 0, 0, 0.15);\n",
              "      filter: drop-shadow(0px 1px 2px rgba(0, 0, 0, 0.3));\n",
              "      fill: #FFFFFF;\n",
              "    }\n",
              "  </style>\n",
              "\n",
              "      <script>\n",
              "        const buttonEl =\n",
              "          document.querySelector('#df-fcd258db-3445-42c2-a67c-7c28c3e757f2 button.colab-df-convert');\n",
              "        buttonEl.style.display =\n",
              "          google.colab.kernel.accessAllowed ? 'block' : 'none';\n",
              "\n",
              "        async function convertToInteractive(key) {\n",
              "          const element = document.querySelector('#df-fcd258db-3445-42c2-a67c-7c28c3e757f2');\n",
              "          const dataTable =\n",
              "            await google.colab.kernel.invokeFunction('convertToInteractive',\n",
              "                                                     [key], {});\n",
              "          if (!dataTable) return;\n",
              "\n",
              "          const docLinkHtml = 'Like what you see? Visit the ' +\n",
              "            '<a target=\"_blank\" href=https://colab.research.google.com/notebooks/data_table.ipynb>data table notebook</a>'\n",
              "            + ' to learn more about interactive tables.';\n",
              "          element.innerHTML = '';\n",
              "          dataTable['output_type'] = 'display_data';\n",
              "          await google.colab.output.renderOutput(dataTable, element);\n",
              "          const docLink = document.createElement('div');\n",
              "          docLink.innerHTML = docLinkHtml;\n",
              "          element.appendChild(docLink);\n",
              "        }\n",
              "      </script>\n",
              "    </div>\n",
              "  </div>\n",
              "  "
            ]
          },
          "metadata": {},
          "execution_count": 17
        }
      ]
    },
    {
      "cell_type": "code",
      "source": [
        "# Randomly selecting 7000 indices in classes with low value count\n",
        "import numpy as np\n",
        "to_add_1 = np.random.choice(train_data[train_data['product']=='credit_card'].index,size = 7000,replace=False)   \n",
        "to_add_2 = np.random.choice(train_data[train_data['product']=='debt_collection'].index,size = 7000,replace=False) \n",
        "to_add_3 = np.random.choice(train_data[train_data['product']=='mortgages_and_loans'].index,size = 7000,replace=False)  \n",
        "to_add_4 = np.random.choice(train_data[train_data['product']=='retail_banking'].index,size=7000,replace=False)\n",
        "\n",
        "# Indices to be added\n",
        "to_add = np.concatenate((to_add_1, to_add_2, to_add_3, to_add_4 ))\n",
        "len(to_add)"
      ],
      "metadata": {
        "colab": {
          "base_uri": "https://localhost:8080/"
        },
        "id": "aUCljpa6rkOI",
        "outputId": "18e8aa80-d7e1-4be8-d69f-ce437371aec1"
      },
      "execution_count": 18,
      "outputs": [
        {
          "output_type": "execute_result",
          "data": {
            "text/plain": [
              "28000"
            ]
          },
          "metadata": {},
          "execution_count": 18
        }
      ]
    },
    {
      "cell_type": "code",
      "source": [
        "# Forming a dataframe for randomly selected indices\n",
        "df_replicate = train_data[train_data.index.isin(to_add)]\n",
        "df_replicate  "
      ],
      "metadata": {
        "colab": {
          "base_uri": "https://localhost:8080/",
          "height": 424
        },
        "id": "LZ_kU53ornI0",
        "outputId": "45d2ef66-44e4-4dd4-ddaa-b32d4dd03429"
      },
      "execution_count": 19,
      "outputs": [
        {
          "output_type": "execute_result",
          "data": {
            "text/plain": [
              "                    product                                              tweet\n",
              "127779  mortgages_and_loans  car paid cancel extended gap service contract ...\n",
              "120365      debt_collection  pra reporting inaccurate information consumer ...\n",
              "117267  mortgages_and_loans  called united auto acceptance place one month ...\n",
              "146394  mortgages_and_loans  trying apply current mortgage company requesti...\n",
              "102221       retail_banking  wife applied received economic injury disaster...\n",
              "...                     ...                                                ...\n",
              "115206  mortgages_and_loans  filed loan modification application loan servi...\n",
              "8689         retail_banking  banco popular de puerto rico branch attention ...\n",
              "118684          credit_card  paypal reporting tradeline never applied consu...\n",
              "111934          credit_card  husband died hospital citi costco visa credit ...\n",
              "105710      debt_collection  internet service installed original bill start...\n",
              "\n",
              "[28000 rows x 2 columns]"
            ],
            "text/html": [
              "\n",
              "  <div id=\"df-2e36660f-806c-46bf-8956-dbb3ceb9ce82\">\n",
              "    <div class=\"colab-df-container\">\n",
              "      <div>\n",
              "<style scoped>\n",
              "    .dataframe tbody tr th:only-of-type {\n",
              "        vertical-align: middle;\n",
              "    }\n",
              "\n",
              "    .dataframe tbody tr th {\n",
              "        vertical-align: top;\n",
              "    }\n",
              "\n",
              "    .dataframe thead th {\n",
              "        text-align: right;\n",
              "    }\n",
              "</style>\n",
              "<table border=\"1\" class=\"dataframe\">\n",
              "  <thead>\n",
              "    <tr style=\"text-align: right;\">\n",
              "      <th></th>\n",
              "      <th>product</th>\n",
              "      <th>tweet</th>\n",
              "    </tr>\n",
              "  </thead>\n",
              "  <tbody>\n",
              "    <tr>\n",
              "      <th>127779</th>\n",
              "      <td>mortgages_and_loans</td>\n",
              "      <td>car paid cancel extended gap service contract ...</td>\n",
              "    </tr>\n",
              "    <tr>\n",
              "      <th>120365</th>\n",
              "      <td>debt_collection</td>\n",
              "      <td>pra reporting inaccurate information consumer ...</td>\n",
              "    </tr>\n",
              "    <tr>\n",
              "      <th>117267</th>\n",
              "      <td>mortgages_and_loans</td>\n",
              "      <td>called united auto acceptance place one month ...</td>\n",
              "    </tr>\n",
              "    <tr>\n",
              "      <th>146394</th>\n",
              "      <td>mortgages_and_loans</td>\n",
              "      <td>trying apply current mortgage company requesti...</td>\n",
              "    </tr>\n",
              "    <tr>\n",
              "      <th>102221</th>\n",
              "      <td>retail_banking</td>\n",
              "      <td>wife applied received economic injury disaster...</td>\n",
              "    </tr>\n",
              "    <tr>\n",
              "      <th>...</th>\n",
              "      <td>...</td>\n",
              "      <td>...</td>\n",
              "    </tr>\n",
              "    <tr>\n",
              "      <th>115206</th>\n",
              "      <td>mortgages_and_loans</td>\n",
              "      <td>filed loan modification application loan servi...</td>\n",
              "    </tr>\n",
              "    <tr>\n",
              "      <th>8689</th>\n",
              "      <td>retail_banking</td>\n",
              "      <td>banco popular de puerto rico branch attention ...</td>\n",
              "    </tr>\n",
              "    <tr>\n",
              "      <th>118684</th>\n",
              "      <td>credit_card</td>\n",
              "      <td>paypal reporting tradeline never applied consu...</td>\n",
              "    </tr>\n",
              "    <tr>\n",
              "      <th>111934</th>\n",
              "      <td>credit_card</td>\n",
              "      <td>husband died hospital citi costco visa credit ...</td>\n",
              "    </tr>\n",
              "    <tr>\n",
              "      <th>105710</th>\n",
              "      <td>debt_collection</td>\n",
              "      <td>internet service installed original bill start...</td>\n",
              "    </tr>\n",
              "  </tbody>\n",
              "</table>\n",
              "<p>28000 rows × 2 columns</p>\n",
              "</div>\n",
              "      <button class=\"colab-df-convert\" onclick=\"convertToInteractive('df-2e36660f-806c-46bf-8956-dbb3ceb9ce82')\"\n",
              "              title=\"Convert this dataframe to an interactive table.\"\n",
              "              style=\"display:none;\">\n",
              "        \n",
              "  <svg xmlns=\"http://www.w3.org/2000/svg\" height=\"24px\"viewBox=\"0 0 24 24\"\n",
              "       width=\"24px\">\n",
              "    <path d=\"M0 0h24v24H0V0z\" fill=\"none\"/>\n",
              "    <path d=\"M18.56 5.44l.94 2.06.94-2.06 2.06-.94-2.06-.94-.94-2.06-.94 2.06-2.06.94zm-11 1L8.5 8.5l.94-2.06 2.06-.94-2.06-.94L8.5 2.5l-.94 2.06-2.06.94zm10 10l.94 2.06.94-2.06 2.06-.94-2.06-.94-.94-2.06-.94 2.06-2.06.94z\"/><path d=\"M17.41 7.96l-1.37-1.37c-.4-.4-.92-.59-1.43-.59-.52 0-1.04.2-1.43.59L10.3 9.45l-7.72 7.72c-.78.78-.78 2.05 0 2.83L4 21.41c.39.39.9.59 1.41.59.51 0 1.02-.2 1.41-.59l7.78-7.78 2.81-2.81c.8-.78.8-2.07 0-2.86zM5.41 20L4 18.59l7.72-7.72 1.47 1.35L5.41 20z\"/>\n",
              "  </svg>\n",
              "      </button>\n",
              "      \n",
              "  <style>\n",
              "    .colab-df-container {\n",
              "      display:flex;\n",
              "      flex-wrap:wrap;\n",
              "      gap: 12px;\n",
              "    }\n",
              "\n",
              "    .colab-df-convert {\n",
              "      background-color: #E8F0FE;\n",
              "      border: none;\n",
              "      border-radius: 50%;\n",
              "      cursor: pointer;\n",
              "      display: none;\n",
              "      fill: #1967D2;\n",
              "      height: 32px;\n",
              "      padding: 0 0 0 0;\n",
              "      width: 32px;\n",
              "    }\n",
              "\n",
              "    .colab-df-convert:hover {\n",
              "      background-color: #E2EBFA;\n",
              "      box-shadow: 0px 1px 2px rgba(60, 64, 67, 0.3), 0px 1px 3px 1px rgba(60, 64, 67, 0.15);\n",
              "      fill: #174EA6;\n",
              "    }\n",
              "\n",
              "    [theme=dark] .colab-df-convert {\n",
              "      background-color: #3B4455;\n",
              "      fill: #D2E3FC;\n",
              "    }\n",
              "\n",
              "    [theme=dark] .colab-df-convert:hover {\n",
              "      background-color: #434B5C;\n",
              "      box-shadow: 0px 1px 3px 1px rgba(0, 0, 0, 0.15);\n",
              "      filter: drop-shadow(0px 1px 2px rgba(0, 0, 0, 0.3));\n",
              "      fill: #FFFFFF;\n",
              "    }\n",
              "  </style>\n",
              "\n",
              "      <script>\n",
              "        const buttonEl =\n",
              "          document.querySelector('#df-2e36660f-806c-46bf-8956-dbb3ceb9ce82 button.colab-df-convert');\n",
              "        buttonEl.style.display =\n",
              "          google.colab.kernel.accessAllowed ? 'block' : 'none';\n",
              "\n",
              "        async function convertToInteractive(key) {\n",
              "          const element = document.querySelector('#df-2e36660f-806c-46bf-8956-dbb3ceb9ce82');\n",
              "          const dataTable =\n",
              "            await google.colab.kernel.invokeFunction('convertToInteractive',\n",
              "                                                     [key], {});\n",
              "          if (!dataTable) return;\n",
              "\n",
              "          const docLinkHtml = 'Like what you see? Visit the ' +\n",
              "            '<a target=\"_blank\" href=https://colab.research.google.com/notebooks/data_table.ipynb>data table notebook</a>'\n",
              "            + ' to learn more about interactive tables.';\n",
              "          element.innerHTML = '';\n",
              "          dataTable['output_type'] = 'display_data';\n",
              "          await google.colab.output.renderOutput(dataTable, element);\n",
              "          const docLink = document.createElement('div');\n",
              "          docLink.innerHTML = docLinkHtml;\n",
              "          element.appendChild(docLink);\n",
              "        }\n",
              "      </script>\n",
              "    </div>\n",
              "  </div>\n",
              "  "
            ]
          },
          "metadata": {},
          "execution_count": 19
        }
      ]
    },
    {
      "cell_type": "code",
      "source": [
        "# Concatenating replicated df to orinigal df\n",
        "train_data = pd.concat([train_data, df_replicate])\n",
        "train_data['product'].value_counts()"
      ],
      "metadata": {
        "colab": {
          "base_uri": "https://localhost:8080/"
        },
        "id": "44kh1yHUrpZQ",
        "outputId": "82bab0bd-59cf-4992-f145-ffb198939ef7"
      },
      "execution_count": 20,
      "outputs": [
        {
          "output_type": "execute_result",
          "data": {
            "text/plain": [
              "credit_reporting       73114\n",
              "debt_collection        25474\n",
              "mortgages_and_loans    22170\n",
              "credit_card            19408\n",
              "retail_banking         17762\n",
              "Name: product, dtype: int64"
            ]
          },
          "metadata": {},
          "execution_count": 20
        }
      ]
    },
    {
      "cell_type": "code",
      "source": [
        "# Importing NLTK Libraries\n",
        "import nltk\n",
        "from nltk.corpus import stopwords\n",
        "from nltk import *"
      ],
      "metadata": {
        "id": "oA6S4opSrst3"
      },
      "execution_count": 21,
      "outputs": []
    },
    {
      "cell_type": "code",
      "source": [
        "# Declaring function for text preprocessing \n",
        "\n",
        "def preprocess_text(main_df):\n",
        "  df_1 = main_df.copy()\n",
        "\n",
        "  # remove stopwords\n",
        "  nltk.download('stopwords')         # Downloading stopwords\n",
        "  stop = stopwords.words('english')  \n",
        "  df_1['tweet'] = df_1['tweet'].apply(lambda x: \" \".join(x for x in x.split() if x not in stop)) \n",
        "  \n",
        "  # remove punctuations and convert to lower case\n",
        "  df_1['tweet'] = df_1['tweet'].apply(lambda x: re.sub('[!@#$:).;,?&]', '', x.lower()))\n",
        "  \n",
        "  # remove double spaces\n",
        "  df_1['tweet'] = df_1['tweet'].apply(lambda x: re.sub(' ', ' ', x))\n",
        "\n",
        "  return df_1  "
      ],
      "metadata": {
        "id": "KoNokbLZrvJW"
      },
      "execution_count": 22,
      "outputs": []
    },
    {
      "cell_type": "code",
      "source": [
        "# Preprocessing training and test data \n",
        "train_data = preprocess_text(train_data)\n",
        "test_data = preprocess_text(test_data)"
      ],
      "metadata": {
        "colab": {
          "base_uri": "https://localhost:8080/"
        },
        "id": "hTtPlJCXrzFf",
        "outputId": "e7feb25f-62b9-4809-f94c-e14039d778aa"
      },
      "execution_count": 23,
      "outputs": [
        {
          "output_type": "stream",
          "name": "stderr",
          "text": [
            "[nltk_data] Downloading package stopwords to /root/nltk_data...\n",
            "[nltk_data]   Unzipping corpora/stopwords.zip.\n",
            "[nltk_data] Downloading package stopwords to /root/nltk_data...\n",
            "[nltk_data]   Package stopwords is already up-to-date!\n"
          ]
        }
      ]
    },
    {
      "cell_type": "code",
      "source": [
        "# Declaring train labels\n",
        "train_labels = train_data['product'] \n",
        "test_labels = test_data['product']"
      ],
      "metadata": {
        "id": "HWcKa191r19A"
      },
      "execution_count": 24,
      "outputs": []
    },
    {
      "cell_type": "code",
      "source": [
        "# Converting labels to numerical features\n",
        "import numpy as np\n",
        "from sklearn.preprocessing import LabelEncoder\n",
        "\n",
        "le = LabelEncoder()\n",
        "le.fit(train_labels)\n",
        "train_labels = le.transform(train_labels)\n",
        "test_labels = le.transform(test_labels)\n",
        "\n",
        "print(le.classes_)\n",
        "print(np.unique(train_labels, return_counts=True))\n",
        "print(np.unique(test_labels, return_counts=True))"
      ],
      "metadata": {
        "colab": {
          "base_uri": "https://localhost:8080/"
        },
        "id": "-CGEYiXRsqN4",
        "outputId": "43d9891d-a595-4f14-babe-0d6fa2aedb13"
      },
      "execution_count": 25,
      "outputs": [
        {
          "output_type": "stream",
          "name": "stdout",
          "text": [
            "['credit_card' 'credit_reporting' 'debt_collection' 'mortgages_and_loans'\n",
            " 'retail_banking']\n",
            "(array([0, 1, 2, 3, 4]), array([19408, 73114, 25474, 22170, 17762]))\n",
            "(array([0, 1, 2, 3, 4]), array([ 3158, 18058,  4674,  3820,  2773]))\n"
          ]
        }
      ]
    },
    {
      "cell_type": "code",
      "source": [
        "# Changing labels to categorical features\n",
        "import numpy as np\n",
        "from tensorflow.python.keras.utils import np_utils\n",
        "from tensorflow.keras.utils import to_categorical\n",
        "import numpy as np\n",
        "\n",
        "train_labels = to_categorical(np.asarray(train_labels))\n",
        "test_labels = to_categorical(np.array(test_labels))"
      ],
      "metadata": {
        "id": "NVwwTR6bsuH2"
      },
      "execution_count": 26,
      "outputs": []
    },
    {
      "cell_type": "code",
      "source": [
        "from tensorflow.keras.preprocessing.text import Tokenizer\n",
        "\n",
        "# Defining training parameters\n",
        "max_sequence_length = 170   \n",
        "max_words = 2500   \n",
        "\n",
        "# Tokenizing tweets/sentences wrt num_words\n",
        "tokenizer = Tokenizer(num_words = max_words)  # Selects most frequent words \n",
        "tokenizer.fit_on_texts(train_data.tweet)      # Develops internal vocab based on training text\n",
        "train_sequences = tokenizer.texts_to_sequences(train_data.tweet)  # converts text to sequence\n",
        "\n",
        "test_sequences = tokenizer.texts_to_sequences(test_data.tweet)"
      ],
      "metadata": {
        "id": "SS06Dt17s0l6"
      },
      "execution_count": 27,
      "outputs": []
    },
    {
      "cell_type": "code",
      "source": [
        "# Fixing the sequence length \n",
        "from tensorflow.keras.preprocessing.sequence import pad_sequences\n",
        "train_data = pad_sequences(train_sequences, maxlen = max_sequence_length)\n",
        "test_data = pad_sequences(test_sequences, maxlen = max_sequence_length)\n",
        "train_data.shape, test_data.shape"
      ],
      "metadata": {
        "colab": {
          "base_uri": "https://localhost:8080/"
        },
        "id": "K2k0i-ZNs3k5",
        "outputId": "bfed1bbf-08a3-4f32-ac53-b48f07a133a2"
      },
      "execution_count": 28,
      "outputs": [
        {
          "output_type": "execute_result",
          "data": {
            "text/plain": [
              "((157928, 170), (32483, 170))"
            ]
          },
          "metadata": {},
          "execution_count": 28
        }
      ]
    },
    {
      "cell_type": "code",
      "source": [
        "# Model Parameters\n",
        "embedding_dim = 32"
      ],
      "metadata": {
        "id": "TPELYv7Ss94w"
      },
      "execution_count": 29,
      "outputs": []
    },
    {
      "cell_type": "code",
      "source": [
        "# Importing Libraries\n",
        "\n",
        "import tensorflow as tf\n",
        "import sys, os, re, csv, codecs, numpy as np, pandas as pd\n",
        "from tensorflow.keras.layers import Dense, Input, LSTM, Embedding, Dropout, Activation\n",
        "from tensorflow.keras.layers import Bidirectional, GlobalMaxPool1D, Conv1D, SimpleRNN\n",
        "from tensorflow.keras.models import Model\n",
        "from tensorflow.keras.models import Sequential\n",
        "from tensorflow.keras import initializers, regularizers, constraints, optimizers, layers\n",
        "from tensorflow.keras.layers import Dense, Input, Input, Flatten, Dropout, BatchNormalization\n",
        "from tensorflow.keras.layers import Conv1D, MaxPooling1D, Embedding "
      ],
      "metadata": {
        "id": "BYVuKIFGtAx6"
      },
      "execution_count": 30,
      "outputs": []
    },
    {
      "cell_type": "code",
      "source": [
        "embedding_dim = 32  \n",
        "\n",
        "# Model Training\n",
        "model = Sequential()\n",
        "model.add(Embedding(max_words, \n",
        "                   embedding_dim,\n",
        "                   input_length=max_sequence_length))\n",
        "\n",
        "# Bidirectional LSTM \n",
        "model.add(Bidirectional(LSTM(16, return_sequences=True, dropout=0.4, recurrent_dropout=0)))   \n",
        "\n",
        "model.add(GlobalMaxPool1D())\n",
        "\n",
        "model.add(Dense(5,activation='softmax'))  \n",
        "\n",
        "model.summary()"
      ],
      "metadata": {
        "colab": {
          "base_uri": "https://localhost:8080/"
        },
        "id": "0YIhndontFRU",
        "outputId": "a78a7211-7aef-4738-a7a4-65cdbee10a28"
      },
      "execution_count": 31,
      "outputs": [
        {
          "output_type": "stream",
          "name": "stdout",
          "text": [
            "Model: \"sequential\"\n",
            "_________________________________________________________________\n",
            " Layer (type)                Output Shape              Param #   \n",
            "=================================================================\n",
            " embedding (Embedding)       (None, 170, 32)           80000     \n",
            "                                                                 \n",
            " bidirectional (Bidirectiona  (None, 170, 32)          6272      \n",
            " l)                                                              \n",
            "                                                                 \n",
            " global_max_pooling1d (Globa  (None, 32)               0         \n",
            " lMaxPooling1D)                                                  \n",
            "                                                                 \n",
            " dense (Dense)               (None, 5)                 165       \n",
            "                                                                 \n",
            "=================================================================\n",
            "Total params: 86,437\n",
            "Trainable params: 86,437\n",
            "Non-trainable params: 0\n",
            "_________________________________________________________________\n"
          ]
        }
      ]
    },
    {
      "cell_type": "code",
      "source": [
        "model.compile(loss = 'binary_crossentropy', optimizer='RMSProp', metrics = ['accuracy']) "
      ],
      "metadata": {
        "id": "SOwH7xqktJye"
      },
      "execution_count": 32,
      "outputs": []
    },
    {
      "cell_type": "code",
      "source": [
        "# declaring weights of product categories\n",
        "class_weight = {0: 4,          \n",
        "                1: 5,    \n",
        "                2: 3,      \n",
        "                3: 3,     \n",
        "                4: 4}      \n",
        "\n",
        "# training and validating model \n",
        "history = model.fit(train_data, train_labels, batch_size=48, epochs= 20, class_weight = class_weight, validation_data=(test_data, test_labels)) # best 89(now) or 48 or 60 epochs # default epochs = 23 # batch_size changed to 1 (takes 2.30hrs) from 16"
      ],
      "metadata": {
        "colab": {
          "base_uri": "https://localhost:8080/"
        },
        "id": "kXVNuJIxtM20",
        "outputId": "90902a90-fab7-4d96-edd8-4b1d32923b3e"
      },
      "execution_count": 33,
      "outputs": [
        {
          "output_type": "stream",
          "name": "stdout",
          "text": [
            "Epoch 1/20\n",
            "3291/3291 [==============================] - 74s 19ms/step - loss: 0.9300 - accuracy: 0.7405 - val_loss: 0.1591 - val_accuracy: 0.8511\n",
            "Epoch 2/20\n",
            "3291/3291 [==============================] - 62s 19ms/step - loss: 0.6075 - accuracy: 0.8494 - val_loss: 0.1486 - val_accuracy: 0.8605\n",
            "Epoch 3/20\n",
            "3291/3291 [==============================] - 62s 19ms/step - loss: 0.5714 - accuracy: 0.8567 - val_loss: 0.1424 - val_accuracy: 0.8654\n",
            "Epoch 4/20\n",
            "3291/3291 [==============================] - 62s 19ms/step - loss: 0.5534 - accuracy: 0.8602 - val_loss: 0.1454 - val_accuracy: 0.8609\n",
            "Epoch 5/20\n",
            "3291/3291 [==============================] - 62s 19ms/step - loss: 0.5421 - accuracy: 0.8623 - val_loss: 0.1374 - val_accuracy: 0.8669\n",
            "Epoch 6/20\n",
            "3291/3291 [==============================] - 62s 19ms/step - loss: 0.5327 - accuracy: 0.8653 - val_loss: 0.1362 - val_accuracy: 0.8689\n",
            "Epoch 7/20\n",
            "3291/3291 [==============================] - 62s 19ms/step - loss: 0.5233 - accuracy: 0.8669 - val_loss: 0.1355 - val_accuracy: 0.8709\n",
            "Epoch 8/20\n",
            "3291/3291 [==============================] - 62s 19ms/step - loss: 0.5174 - accuracy: 0.8693 - val_loss: 0.1376 - val_accuracy: 0.8705\n",
            "Epoch 9/20\n",
            "3291/3291 [==============================] - 62s 19ms/step - loss: 0.5133 - accuracy: 0.8704 - val_loss: 0.1357 - val_accuracy: 0.8725\n",
            "Epoch 10/20\n",
            "3291/3291 [==============================] - 62s 19ms/step - loss: 0.5092 - accuracy: 0.8713 - val_loss: 0.1361 - val_accuracy: 0.8720\n",
            "Epoch 11/20\n",
            "3291/3291 [==============================] - 62s 19ms/step - loss: 0.5054 - accuracy: 0.8720 - val_loss: 0.1388 - val_accuracy: 0.8697\n",
            "Epoch 12/20\n",
            "3291/3291 [==============================] - 62s 19ms/step - loss: 0.5025 - accuracy: 0.8733 - val_loss: 0.1339 - val_accuracy: 0.8737\n",
            "Epoch 13/20\n",
            "3291/3291 [==============================] - 62s 19ms/step - loss: 0.5006 - accuracy: 0.8742 - val_loss: 0.1336 - val_accuracy: 0.8755\n",
            "Epoch 14/20\n",
            "3291/3291 [==============================] - 62s 19ms/step - loss: 0.4982 - accuracy: 0.8743 - val_loss: 0.1354 - val_accuracy: 0.8737\n",
            "Epoch 15/20\n",
            "3291/3291 [==============================] - 62s 19ms/step - loss: 0.4955 - accuracy: 0.8751 - val_loss: 0.1335 - val_accuracy: 0.8745\n",
            "Epoch 16/20\n",
            "3291/3291 [==============================] - 63s 19ms/step - loss: 0.4931 - accuracy: 0.8753 - val_loss: 0.1338 - val_accuracy: 0.8740\n",
            "Epoch 17/20\n",
            "3291/3291 [==============================] - 62s 19ms/step - loss: 0.4915 - accuracy: 0.8760 - val_loss: 0.1310 - val_accuracy: 0.8766\n",
            "Epoch 18/20\n",
            "3291/3291 [==============================] - 62s 19ms/step - loss: 0.4891 - accuracy: 0.8763 - val_loss: 0.1365 - val_accuracy: 0.8741\n",
            "Epoch 19/20\n",
            "3291/3291 [==============================] - 63s 19ms/step - loss: 0.4877 - accuracy: 0.8765 - val_loss: 0.1344 - val_accuracy: 0.8749\n",
            "Epoch 20/20\n",
            "3291/3291 [==============================] - 62s 19ms/step - loss: 0.4860 - accuracy: 0.8776 - val_loss: 0.1325 - val_accuracy: 0.8762\n"
          ]
        }
      ]
    },
    {
      "cell_type": "code",
      "source": [
        "# Prediction on Test Data\n",
        "predicted_bi_lstm = model.predict(test_data)\n",
        "predicted_bi_lstm"
      ],
      "metadata": {
        "colab": {
          "base_uri": "https://localhost:8080/"
        },
        "id": "L4RWZt1StTaR",
        "outputId": "26ab7186-3a14-4d1d-860f-aaebe0c601a2"
      },
      "execution_count": 34,
      "outputs": [
        {
          "output_type": "execute_result",
          "data": {
            "text/plain": [
              "array([[4.1165608e-06, 9.9958354e-01, 4.0986727e-04, 1.6343067e-06,\n",
              "        8.4338473e-07],\n",
              "       [4.5504967e-06, 9.9998832e-01, 5.9718595e-06, 6.9607125e-07,\n",
              "        4.4861409e-07],\n",
              "       [3.1543724e-04, 8.8150112e-04, 9.8831314e-01, 7.0093321e-03,\n",
              "        3.4806689e-03],\n",
              "       ...,\n",
              "       [3.7286268e-06, 9.9997246e-01, 1.8189969e-05, 5.1833545e-06,\n",
              "        4.8872664e-07],\n",
              "       [7.9885544e-03, 6.8352610e-01, 3.0424502e-01, 2.4113571e-03,\n",
              "        1.8289455e-03],\n",
              "       [2.4827139e-03, 1.6032777e-03, 9.9492896e-01, 8.7523478e-04,\n",
              "        1.0999842e-04]], dtype=float32)"
            ]
          },
          "metadata": {},
          "execution_count": 34
        }
      ]
    },
    {
      "cell_type": "code",
      "source": [
        "## Model Evaluation\n",
        "\n",
        "import sklearn\n",
        "from sklearn.metrics import precision_recall_fscore_support as score\n",
        "precision, recall, fscore, support = score(test_labels, predicted_bi_lstm.round())\n",
        "\n",
        "print('precision: {}'.format(precision))\n",
        "print('recall: {}'.format(recall))\n",
        "print('fscore: {}'.format(fscore))\n",
        "print('support: {}'.format(support))\n",
        "print('################################')\n",
        "print(sklearn.metrics.classification_report(test_labels, predicted_bi_lstm.round()))"
      ],
      "metadata": {
        "colab": {
          "base_uri": "https://localhost:8080/"
        },
        "id": "viLl872i2OKj",
        "outputId": "41ddeab3-c66f-4fec-d2ab-46bb15626bb8"
      },
      "execution_count": 35,
      "outputs": [
        {
          "output_type": "stream",
          "name": "stdout",
          "text": [
            "precision: [0.78915663 0.9158518  0.83509202 0.86664811 0.84586466]\n",
            "recall: [0.78815706 0.93360284 0.72807018 0.81492147 0.89253516]\n",
            "fscore: [0.78865653 0.92464213 0.77791748 0.83998921 0.86857343]\n",
            "support: [ 3158 18058  4674  3820  2773]\n",
            "################################\n",
            "              precision    recall  f1-score   support\n",
            "\n",
            "           0       0.79      0.79      0.79      3158\n",
            "           1       0.92      0.93      0.92     18058\n",
            "           2       0.84      0.73      0.78      4674\n",
            "           3       0.87      0.81      0.84      3820\n",
            "           4       0.85      0.89      0.87      2773\n",
            "\n",
            "   micro avg       0.88      0.87      0.88     32483\n",
            "   macro avg       0.85      0.83      0.84     32483\n",
            "weighted avg       0.88      0.87      0.88     32483\n",
            " samples avg       0.87      0.87      0.87     32483\n",
            "\n"
          ]
        },
        {
          "output_type": "stream",
          "name": "stderr",
          "text": [
            "/usr/local/lib/python3.7/dist-packages/sklearn/metrics/_classification.py:1318: UndefinedMetricWarning: Precision and F-score are ill-defined and being set to 0.0 in samples with no predicted labels. Use `zero_division` parameter to control this behavior.\n",
            "  _warn_prf(average, modifier, msg_start, len(result))\n"
          ]
        }
      ]
    },
    {
      "cell_type": "code",
      "source": [
        "##  Model Performance\n",
        "\n",
        "def accuracy_plot(history):\n",
        "    \n",
        "    fig, ax = plt.subplots(1, 2, figsize=(12,5))\n",
        "    \n",
        "    fig.suptitle('Model Performance with Epochs', fontsize = 16)\n",
        "    # Subplot 1 \n",
        "    ax[0].plot(history.history['accuracy'])\n",
        "    ax[0].plot(history.history['val_accuracy'])\n",
        "    ax[0].set_title('Model Accuracy', fontsize = 14)\n",
        "    ax[0].set_xlabel('Epochs', fontsize = 12)\n",
        "    ax[0].set_ylabel('Accuracy', fontsize = 12)\n",
        "    ax[0].legend(['train', 'validation'], loc='best')\n",
        "    \n",
        "    # Subplot 2\n",
        "    ax[1].plot(history.history['loss'])\n",
        "    ax[1].plot(history.history['val_loss'])\n",
        "    ax[1].set_title('Model Loss', fontsize = 14)\n",
        "    ax[1].set_xlabel('Epochs', fontsize = 12)\n",
        "    ax[1].set_ylabel('Loss', fontsize = 12)\n",
        "    ax[1].legend(['train', 'validation'], loc='best')\n",
        "    \n",
        "    \n",
        "accuracy_plot(history)"
      ],
      "metadata": {
        "colab": {
          "base_uri": "https://localhost:8080/",
          "height": 373
        },
        "id": "GeT6JXSn5RJS",
        "outputId": "059656f0-346f-4fe2-8fe5-88f3647be8a4"
      },
      "execution_count": 37,
      "outputs": [
        {
          "output_type": "display_data",
          "data": {
            "text/plain": [
              "<Figure size 864x360 with 2 Axes>"
            ],
            "image/png": "[encoded data removed]"
          },
          "metadata": {
            "needs_background": "light"
          }
        }
      ]
    },
    {
      "cell_type": "code",
      "source": [],
      "metadata": {
        "id": "MU3Y66xz5Vmh"
      },
      "execution_count": null,
      "outputs": []
    }
  ]
}